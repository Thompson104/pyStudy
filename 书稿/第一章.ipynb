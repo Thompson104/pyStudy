{
 "cells": [
  {
   "cell_type": "code",
   "execution_count": 159,
   "metadata": {
    "collapsed": true
   },
   "outputs": [],
   "source": [
    "#%%加载库\n",
    "import numpy as np\n",
    "import seaborn as sbn\n",
    "import  matplotlib.pyplot as plt\n",
    "import matplotlib.font_manager as fm\n",
    "myfont = fm.FontProperties(fname=u'C:\\Windows\\Fonts\\simsun.ttc',size=16)\n",
    "%matplotlib inline"
   ]
  },
  {
   "cell_type": "code",
   "execution_count": 160,
   "metadata": {
    "collapsed": true
   },
   "outputs": [],
   "source": [
    "# %%\n",
    "def f(x):\n",
    "    return  0.5 * x"
   ]
  },
  {
   "cell_type": "code",
   "execution_count": 161,
   "metadata": {},
   "outputs": [],
   "source": [
    "#%% 生成数据\n",
    "x = np.linspace(-2 * np.pi, 2 * np.pi,50)\n",
    "## 未排序数据\n",
    "#x = np.random.rand(50) * 4 * np.pi - 2 * np.pi\n",
    "x = x + 0.05 * np.random.standard_normal(len(x))\n",
    "y= f(x) + 0.25* np.random.standard_normal(len(x))"
   ]
  },
  {
   "cell_type": "code",
   "execution_count": 162,
   "metadata": {},
   "outputs": [
    {
     "data": {
      "text/plain": [
       "[<matplotlib.lines.Line2D at 0x1c4d1f93b00>]"
      ]
     },
     "execution_count": 162,
     "metadata": {},
     "output_type": "execute_result"
    },
    {
     "data": {
      "image/png": "[encoded data removed]",
      "text/plain": [
       "<matplotlib.figure.Figure at 0x1c4d1b0e5f8>"
      ]
     },
     "metadata": {},
     "output_type": "display_data"
    }
   ],
   "source": [
    "# 观察数据    \n",
    "plt.plot(x,y,'k.',label='rawdata')"
   ]
  },
  {
   "cell_type": "code",
   "execution_count": 163,
   "metadata": {},
   "outputs": [
    {
     "name": "stdout",
     "output_type": "stream",
     "text": [
      "LinearRegression均方误差= -1.06581410364e-16\n",
      "LinearRegression的score= 0.983714196731\n",
      "x的奇异值 [ 26.17269168]\n",
      "x的轶 1\n"
     ]
    },
    {
     "data": {
      "text/plain": [
       "[<matplotlib.lines.Line2D at 0x1c4d1fceb38>]"
      ]
     },
     "execution_count": 163,
     "metadata": {},
     "output_type": "execute_result"
    },
    {
     "data": {
      "image/png": "[encoded data removed]",
      "text/plain": [
       "<matplotlib.figure.Figure at 0x1c4d1fced68>"
      ]
     },
     "metadata": {},
     "output_type": "display_data"
    }
   ],
   "source": [
    "#%% sklearn中的线性模型\n",
    "# 是scipy.linalg.lstsq的包装\n",
    "from sklearn.linear_model import LinearRegression\n",
    "model = LinearRegression()\n",
    "# 选择更好的基函数，可以取得更好的效果\n",
    "model.fit(x.reshape(-1, 1),y)\n",
    "yy1 = model.predict( x.reshape(-1, 1) )\n",
    "print('LinearRegression均方误差=',np.mean(yy1 - y))\n",
    "print(\"LinearRegression的score=\",model.score(x.reshape(-1, 1),y))\n",
    "print('x的奇异值',model.singular_)\n",
    "print('x的轶',model.rank_)\n",
    "plt.plot(x,yy1,'y*',label='LinearRegression')\n",
    "plt.plot(x,y,'k.',label='rawdata')"
   ]
  },
  {
   "cell_type": "markdown",
   "metadata": {},
   "source": [
    "sklearn.linear_model.LinearRegression求解线性回归方程参数时，首先判断训练集X是不是稀疏矩阵，如是，就用Golub & Kahan双对角线化过程方法来求解；否则就调用C库LAPACK中的用基于分治法的奇异值分解来求解。\n"
   ]
  },
  {
   "cell_type": "code",
   "execution_count": 164,
   "metadata": {
    "collapsed": true
   },
   "outputs": [],
   "source": [
    "# 增加通过不同基函数生成的数据\n",
    "data = np.concatenate( ( x.reshape(-1,1),\n",
    "                         (x**2).reshape(-1,1),\n",
    "                         (x**3).reshape(-1,1),\n",
    "                         np.sin(x).reshape(-1,1) )\n",
    "                       ,axis=1 )"
   ]
  },
  {
   "cell_type": "code",
   "execution_count": 165,
   "metadata": {},
   "outputs": [
    {
     "name": "stdout",
     "output_type": "stream",
     "text": [
      "LinearRegression均方误差= 1.35447209004e-16\n",
      "LinearRegression的score= 0.984353293209\n",
      "x的奇异值 [ 702.35461985   86.34798734   10.47840772    4.32440486]\n",
      "x的轶 4\n"
     ]
    },
    {
     "data": {
      "text/plain": [
       "[<matplotlib.lines.Line2D at 0x1c4d201d470>]"
      ]
     },
     "execution_count": 165,
     "metadata": {},
     "output_type": "execute_result"
    },
    {
     "data": {
      "image/png": "[encoded data removed]",
      "text/plain": [
       "<matplotlib.figure.Figure at 0x1c4d2025ac8>"
      ]
     },
     "metadata": {},
     "output_type": "display_data"
    }
   ],
   "source": [
    "# 选择更好的基函数，可以取得更好的效果\n",
    "model.fit(data,y)\n",
    "yy2 = model.predict( data )\n",
    "print('LinearRegression均方误差=',np.mean(yy2 - y))\n",
    "print(\"LinearRegression的score=\",model.score(data,y))\n",
    "print('x的奇异值',model.singular_)\n",
    "print('x的轶',model.rank_)\n",
    "plt.plot(x,yy2,'y*',label='LinearRegression')\n",
    "plt.plot(x,y,'k.',label='rawdata')"
   ]
  },
  {
   "cell_type": "code",
   "execution_count": 166,
   "metadata": {},
   "outputs": [
    {
     "name": "stdout",
     "output_type": "stream",
     "text": [
      "LinearRegression均方误差= -4.66293670343e-17\n",
      "LinearRegression的score= 0.984002022709\n",
      "x的奇异值 [ 702.35075632   86.34798727   10.45371346]\n",
      "x的轶 3\n"
     ]
    },
    {
     "data": {
      "text/plain": [
       "[<matplotlib.lines.Line2D at 0x1c4d3048940>]"
      ]
     },
     "execution_count": 166,
     "metadata": {},
     "output_type": "execute_result"
    },
    {
     "data": {
      "image/png": "[encoded data removed]",
      "text/plain": [
       "<matplotlib.figure.Figure at 0x1c4d3048e48>"
      ]
     },
     "metadata": {},
     "output_type": "display_data"
    }
   ],
   "source": [
    "# 选择x,x^2,x^3等三个特征进行学习\n",
    "datatmp = data[:,[0, 1,2]]\n",
    "model.fit(datatmp,y)\n",
    "yy3 = model.predict( datatmp )\n",
    "print('LinearRegression均方误差=',np.mean(yy3 - y))\n",
    "print(\"LinearRegression的score=\",model.score(datatmp,y))\n",
    "print('x的奇异值',model.singular_)\n",
    "print('x的轶',model.rank_)\n",
    "plt.plot(x,yy3,'y*',label='LinearRegression')\n",
    "plt.plot(x,y,'k.',label='rawdata')"
   ]
  },
  {
   "cell_type": "code",
   "execution_count": 167,
   "metadata": {},
   "outputs": [
    {
     "name": "stdout",
     "output_type": "stream",
     "text": [
      "LinearRegression均方误差= -1.06581410364e-16\n",
      "LinearRegression的score= 0.151497299583\n",
      "x的奇异值 [ 4.96432428]\n",
      "x的轶 1\n"
     ]
    },
    {
     "data": {
      "text/plain": [
       "[<matplotlib.lines.Line2D at 0x1c4d1fd24a8>]"
      ]
     },
     "execution_count": 167,
     "metadata": {},
     "output_type": "execute_result"
    },
    {
     "data": {
      "image/png": "[encoded data removed]",
      "text/plain": [
       "<matplotlib.figure.Figure at 0x1c4d306a4e0>"
      ]
     },
     "metadata": {},
     "output_type": "display_data"
    }
   ],
   "source": [
    "# 选择x,x^2,sin(x)等三个特征进行学习\n",
    "datatmp = data[:,[3]]\n",
    "model.fit(datatmp,y)\n",
    "yy4 = model.predict( datatmp )\n",
    "print('LinearRegression均方误差=',np.mean(yy4 - y))\n",
    "print(\"LinearRegression的score=\",model.score(datatmp,y))\n",
    "print('x的奇异值',model.singular_)\n",
    "print('x的轶',model.rank_)\n",
    "plt.plot(x,yy4,'y*',label='LinearRegression')\n",
    "plt.plot(x,y,'k.',label='rawdata')"
   ]
  },
  {
   "cell_type": "code",
   "execution_count": 168,
   "metadata": {},
   "outputs": [
    {
     "name": "stdout",
     "output_type": "stream",
     "text": [
      "LinearRegression均方误差= -7.54951656745e-17\n",
      "LinearRegression的score= 0.98422328599\n",
      "x的奇异值 [ 86.34799156  26.24185926   4.58464891]\n",
      "x的轶 3\n"
     ]
    },
    {
     "data": {
      "text/plain": [
       "[<matplotlib.lines.Line2D at 0x1c4d30e7278>]"
      ]
     },
     "execution_count": 168,
     "metadata": {},
     "output_type": "execute_result"
    },
    {
     "data": {
      "image/png": "[encoded data removed]",
      "text/plain": [
       "<matplotlib.figure.Figure at 0x1c4d30e7908>"
      ]
     },
     "metadata": {},
     "output_type": "display_data"
    }
   ],
   "source": [
    "# 选择x,x^2,sin(x)等三个特征进行学习\n",
    "datatmp = data[:,[0, 1,3]]\n",
    "model.fit(datatmp,y)\n",
    "yy5 = model.predict( datatmp )\n",
    "print('LinearRegression均方误差=',np.mean(yy5 - y))\n",
    "print(\"LinearRegression的score=\",model.score(datatmp,y))\n",
    "print('x的奇异值',model.singular_)\n",
    "print('x的轶',model.rank_)\n",
    "plt.plot(x,yy5,'y*',label='LinearRegression')\n",
    "plt.plot(x,y,'k.',label='rawdata')"
   ]
  },
  {
   "cell_type": "code",
   "execution_count": 177,
   "metadata": {},
   "outputs": [
    {
     "name": "stdout",
     "output_type": "stream",
     "text": [
      "LinearRegression均方误差= 3.5527136788e-17\n",
      "LinearRegression的score= 0.81120982618\n",
      "x的奇异值 [ 26.17269168]\n",
      "x的轶 1\n"
     ]
    },
    {
     "data": {
      "text/plain": [
       "[<matplotlib.lines.Line2D at 0x1c4d32e8898>]"
      ]
     },
     "execution_count": 177,
     "metadata": {},
     "output_type": "execute_result"
    },
    {
     "data": {
      "image/png": "[encoded data removed]",
      "text/plain": [
       "<matplotlib.figure.Figure at 0x1c4d1bedf60>"
      ]
     },
     "metadata": {},
     "output_type": "display_data"
    }
   ],
   "source": [
    "# 添加3个离异点\n",
    "data = np.concatenate( ( x.reshape(-1,1),\n",
    "                         (x**2).reshape(-1,1),\n",
    "                         (x**3).reshape(-1,1),\n",
    "                         np.sin(x).reshape(-1,1) )\n",
    "                       ,axis=1 )\n",
    "outlier_y = f(data[:,0])\n",
    "\n",
    "outlier_y[44] +=5\n",
    "\n",
    "outlier_y[45] +=6\n",
    "\n",
    "# 观察数据    \n",
    "plt.plot(data[:,0],outlier_y,'k.',label='rawdata')\n",
    "# 选择x^1\n",
    "datatmp = data[:,[0]]\n",
    "model.fit(datatmp,outlier_y)\n",
    "yy6 = model.predict( datatmp )\n",
    "print('LinearRegression均方误差=',np.mean(yy6 - outlier_y))\n",
    "print(\"LinearRegression的score=\",model.score(datatmp,outlier_y))\n",
    "print('x的奇异值',model.singular_)\n",
    "print('x的轶',model.rank_)\n",
    "plt.plot(datatmp,y,'r.',label='rawdata')\n",
    "plt.plot(datatmp,yy6,'y*',label='LinearRegression')\n",
    "plt.plot(datatmp,yy1,'b*',label='LinearRegression')"
   ]
  },
  {
   "cell_type": "code",
   "execution_count": 176,
   "metadata": {},
   "outputs": [
    {
     "name": "stdout",
     "output_type": "stream",
     "text": [
      "Ridge均方误差= 4.4408920985e-17\n",
      "Ridge的score= 0.811209826007\n"
     ]
    },
    {
     "data": {
      "text/plain": [
       "<matplotlib.legend.Legend at 0x1c4d3eb4be0>"
      ]
     },
     "execution_count": 176,
     "metadata": {},
     "output_type": "execute_result"
    },
    {
     "data": {
      "image/png": "[encoded data removed]",
      "text/plain": [
       "<matplotlib.figure.Figure at 0x1c4d3eb4c50>"
      ]
     },
     "metadata": {},
     "output_type": "display_data"
    }
   ],
   "source": [
    "# 使用岭回归\n",
    "from sklearn.linear_model import Ridge\n",
    "ridge_model = Ridge(alpha=0.01)\n",
    "ridge_model.fit(data[:,0].reshape(-1, 1),outlier_y)\n",
    "ridge_yy = ridge_model.predict( data[:,0].reshape(-1, 1))\n",
    "print('Ridge均方误差=',np.mean(ridge_yy - outlier_y))\n",
    "print(\"Ridge的score=\",ridge_model.score(data[:,0].reshape(-1, 1),outlier_y))\n",
    "plt.plot(datatmp,outlier_y,'r.',label='rawdata')\n",
    "#plt.plot(x,ridge_yy,'m1',label='Ridge')\n",
    "#plt.plot(datatmp,yy1,'b^',label='LinearRegression')\n",
    "#plt.plot(datatmp,yy6,'y*',label='LinearRegression')\n",
    "plt.legend(loc='best')"
   ]
  },
  {
   "cell_type": "code",
   "execution_count": null,
   "metadata": {
    "collapsed": true
   },
   "outputs": [],
   "source": []
  }
 ],
 "metadata": {
  "kernelspec": {
   "display_name": "Python 3",
   "language": "python",
   "name": "python3"
  },
  "language_info": {
   "codemirror_mode": {
    "name": "ipython",
    "version": 3
   },
   "file_extension": ".py",
   "mimetype": "text/x-python",
   "name": "python",
   "nbconvert_exporter": "python",
   "pygments_lexer": "ipython3",
   "version": "3.6.4"
  }
 },
 "nbformat": 4,
 "nbformat_minor": 2
}
