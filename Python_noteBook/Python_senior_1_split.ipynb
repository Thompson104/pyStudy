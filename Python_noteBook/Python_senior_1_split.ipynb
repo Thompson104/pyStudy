{
 "cells": [
  {
   "cell_type": "markdown",
   "metadata": {},
   "source": [
    "# 高级特性"
   ]
  },
  {
   "cell_type": "markdown",
   "metadata": {},
   "source": [
    "掌握了Python的数据类型、语句和函数，基本上就可以编写出很多有用的程序了。\n",
    "\n",
    "比如构造一个1, 3, 5, 7, ..., 99的列表，可以通过循环实现："
   ]
  },
  {
   "cell_type": "code",
   "execution_count": 1,
   "metadata": {
    "collapsed": true
   },
   "outputs": [],
   "source": [
    "L = []\n",
    "n = 1\n",
    "while n <= 99:\n",
    "    L.append(n)\n",
    "    n = n + 2"
   ]
  },
  {
   "cell_type": "markdown",
   "metadata": {},
   "source": [
    "取list的前一半的元素，也可以通过循环实现。\n",
    "\n",
    "但是在Python中，代码不是越多越好，而是越少越好。代码不是越复杂越好，而是越简单越好。\n",
    "\n",
    "基于这一思想，我们来介绍Python中非常有用的高级特性，1行代码能实现的功能，决不写5行代码。请始终牢记，代码越少，开发效率越高。"
   ]
  },
  {
   "cell_type": "markdown",
   "metadata": {},
   "source": [
    "## 切片\n",
    "取一个list或tuple的部分元素是非常常见的操作。比如，一个list如下："
   ]
  },
  {
   "cell_type": "code",
   "execution_count": null,
   "metadata": {
    "collapsed": true
   },
   "outputs": [],
   "source": [
    "L = ['Michael', 'Sarah', 'Tracy', 'Bob', 'Jack']"
   ]
  },
  {
   "cell_type": "markdown",
   "metadata": {},
   "source": [
    "取前3个元素，应该怎么做？\n",
    "笨办法：\n",
    "\n",
    ">>> [L[0], L[1], L[2]]\n",
    "['Michael', 'Sarah', 'Tracy']\n",
    "\n",
    "之所以是笨办法是因为扩展一下，取前N个元素就没辙了。\n",
    "\n",
    "取前N个元素，也就是索引为0-(N-1)的元素，可以用循环：\n",
    "\n",
    ">>> r = []\n",
    ">>> n = 3\n",
    ">>> for i in range(n):\n",
    "...     r.append(L[i])\n",
    "... \n",
    ">>> r\n",
    "['Michael', 'Sarah', 'Tracy']\n",
    "\n",
    "对这种经常取指定索引范围的操作，用循环十分繁琐，因此，Python提供了切片（Slice）操作符，能大大简化这种操作。\n",
    "\n",
    "对应上面的问题，取前3个元素，用一行代码就可以完成切片："
   ]
  },
  {
   "cell_type": "code",
   "execution_count": null,
   "metadata": {
    "collapsed": true
   },
   "outputs": [],
   "source": [
    "L[0:3]"
   ]
  },
  {
   "cell_type": "markdown",
   "metadata": {},
   "source": [
    "L[0:3]表示，从索引0开始取，直到索引3为止，但不包括索引3。即索引0，1，2，正好是3个元素。\n",
    "\n",
    "如果第一个索引是0，还可以省略："
   ]
  },
  {
   "cell_type": "code",
   "execution_count": null,
   "metadata": {
    "collapsed": true
   },
   "outputs": [],
   "source": [
    "L[:3]"
   ]
  },
  {
   "cell_type": "markdown",
   "metadata": {},
   "source": [
    "也可以从索引1开始，取出2个元素出来："
   ]
  },
  {
   "cell_type": "code",
   "execution_count": null,
   "metadata": {
    "collapsed": true
   },
   "outputs": [],
   "source": [
    " L[1:3]"
   ]
  },
  {
   "cell_type": "markdown",
   "metadata": {},
   "source": [
    "类似的，既然Python支持L[-1]取倒数第一个元素，那么它同样支持倒数切片，试试："
   ]
  },
  {
   "cell_type": "code",
   "execution_count": null,
   "metadata": {
    "collapsed": true
   },
   "outputs": [],
   "source": [
    " L[-2:]"
   ]
  },
  {
   "cell_type": "code",
   "execution_count": null,
   "metadata": {
    "collapsed": true
   },
   "outputs": [],
   "source": [
    "L[-2:-1]"
   ]
  },
  {
   "cell_type": "markdown",
   "metadata": {},
   "source": [
    "记住倒数第一个元素的索引是-1。\n",
    "\n",
    "切片操作十分有用。我们先创建一个0-99的数列："
   ]
  },
  {
   "cell_type": "code",
   "execution_count": null,
   "metadata": {
    "collapsed": true
   },
   "outputs": [],
   "source": [
    "L = list(range(100))"
   ]
  },
  {
   "cell_type": "markdown",
   "metadata": {},
   "source": [
    "可以通过切片轻松取出某一段数列。比如前10个数："
   ]
  },
  {
   "cell_type": "code",
   "execution_count": null,
   "metadata": {
    "collapsed": true
   },
   "outputs": [],
   "source": [
    "L[:10]"
   ]
  },
  {
   "cell_type": "markdown",
   "metadata": {},
   "source": [
    "后10个数："
   ]
  },
  {
   "cell_type": "code",
   "execution_count": null,
   "metadata": {
    "collapsed": true
   },
   "outputs": [],
   "source": [
    " L[-10:]"
   ]
  },
  {
   "cell_type": "markdown",
   "metadata": {},
   "source": [
    "前11-20个数：\n",
    "L[10:20]\n",
    "前10个数，每两个取一个：\n",
    "L[:10:2]\n",
    "所有数，每5个取一个：\n",
    ">>> L[::5]\n",
    "\n",
    "甚至什么都不写，只写[:]就可以原样复制一个list：\n",
    "L[:]"
   ]
  },
  {
   "cell_type": "markdown",
   "metadata": {},
   "source": [
    "tuple也是一种list，唯一区别是tuple不可变。因此，tuple也可以用切片操作，只是操作的结果仍是tuple：\n",
    "字符串'xxx'也可以看成是一种list，每个元素就是一个字符。因此，字符串也可以用切片操作，只是操作结果仍是字符串："
   ]
  },
  {
   "cell_type": "markdown",
   "metadata": {},
   "source": [
    "在很多编程语言中，针对字符串提供了很多各种截取函数（例如，substring），其实目的就是对字符串切片。Python没有针对字符串的截取函数，只需要切片一个操作就可以完成，非常简单。"
   ]
  },
  {
   "cell_type": "markdown",
   "metadata": {},
   "source": [
    "小结\n",
    "\n",
    "有了切片操作，很多地方循环就不再需要了。Python的切片非常灵活，一行代码就可以实现很多行循环才能完成的操作。"
   ]
  }
 ],
 "metadata": {
  "kernelspec": {
   "display_name": "Python 3",
   "language": "python",
   "name": "python3"
  },
  "language_info": {
   "codemirror_mode": {
    "name": "ipython",
    "version": 3
   },
   "file_extension": ".py",
   "mimetype": "text/x-python",
   "name": "python",
   "nbconvert_exporter": "python",
   "pygments_lexer": "ipython3",
   "version": "3.6.2"
  }
 },
 "nbformat": 4,
 "nbformat_minor": 2
}
