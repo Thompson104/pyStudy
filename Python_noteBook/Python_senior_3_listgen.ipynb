{
 "cells": [
  {
   "cell_type": "markdown",
   "metadata": {},
   "source": [
    "# 列表生成式"
   ]
  },
  {
   "cell_type": "markdown",
   "metadata": {},
   "source": [
    "列表生成式即List Comprehensions，是Python内置的非常简单却强大的可以用来创建list的生成式。\n",
    "\n",
    "举个例子，要生成list [1, 2, 3, 4, 5, 6, 7, 8, 9, 10]可以用list(range(1, 11))："
   ]
  },
  {
   "cell_type": "code",
   "execution_count": null,
   "metadata": {},
   "outputs": [],
   "source": [
    "list(range(1, 11))"
   ]
  },
  {
   "cell_type": "markdown",
   "metadata": {},
   "source": [
    "但如果要生成[1x1, 2x2, 3x3, ..., 10x10]怎么做？方法一是循环："
   ]
  },
  {
   "cell_type": "raw",
   "metadata": {},
   "source": [
    ">>> L = []\n",
    ">>> for x in range(1, 11):\n",
    "...    L.append(x * x)\n",
    "...\n",
    ">>> L\n",
    "[1, 4, 9, 16, 25, 36, 49, 64, 81, 100]"
   ]
  },
  {
   "cell_type": "markdown",
   "metadata": {},
   "source": [
    "但是循环太繁琐，而列表生成式则可以用一行语句代替循环生成上面的list："
   ]
  },
  {
   "cell_type": "raw",
   "metadata": {},
   "source": [
    ">>> [x * x for x in range(1, 11)]\n",
    "[1, 4, 9, 16, 25, 36, 49, 64, 81, 100]"
   ]
  },
  {
   "cell_type": "markdown",
   "metadata": {},
   "source": [
    "写列表生成式时，把要生成的元素x * x放到前面，后面跟for循环，就可以把list创建出来，十分有用，多写几次，很快就可以熟悉这种语法。\n",
    "\n",
    "for循环后面还可以加上if判断，这样我们就可以筛选出仅偶数的平方："
   ]
  },
  {
   "cell_type": "raw",
   "metadata": {},
   "source": [
    ">>> [x * x for x in range(1, 11) if x % 2 == 0]\n",
    "[4, 16, 36, 64, 100]"
   ]
  },
  {
   "cell_type": "markdown",
   "metadata": {},
   "source": [
    "还可以使用两层循环，可以生成全排列："
   ]
  },
  {
   "cell_type": "raw",
   "metadata": {},
   "source": [
    ">>> [m + n for m in 'ABC' for n in 'XYZ']\n",
    "['AX', 'AY', 'AZ', 'BX', 'BY', 'BZ', 'CX', 'CY', 'CZ']"
   ]
  },
  {
   "cell_type": "markdown",
   "metadata": {},
   "source": [
    "三层和三层以上的循环就很少用到了。\n",
    "\n",
    "运用列表生成式，可以写出非常简洁的代码。例如，列出当前目录下的所有文件和目录名，可以通过一行代码实现："
   ]
  },
  {
   "cell_type": "raw",
   "metadata": {},
   "source": [
    ">>> import os # 导入os模块，模块的概念后面讲到\n",
    ">>> [d for d in os.listdir('.')] # os.listdir可以列出文件和目录\n",
    "['.emacs.d', '.ssh', '.Trash', 'Adlm', 'Applications', 'Desktop', 'Documents', 'Downloads', 'Library', 'Movies', 'Music', 'Pictures', 'Public', 'VirtualBox VMs', 'Workspace', 'XCode']"
   ]
  },
  {
   "cell_type": "markdown",
   "metadata": {},
   "source": [
    "for循环其实可以同时使用两个甚至多个变量，比如dict的items()可以同时迭代key和value："
   ]
  },
  {
   "cell_type": "raw",
   "metadata": {},
   "source": [
    ">>> d = {'x': 'A', 'y': 'B', 'z': 'C' }\n",
    ">>> for k, v in d.items():\n",
    "...     print(k, '=', v)\n",
    "...\n",
    "y = B\n",
    "x = A\n",
    "z = C"
   ]
  },
  {
   "cell_type": "markdown",
   "metadata": {},
   "source": [
    "因此，列表生成式也可以使用两个变量来生成list："
   ]
  },
  {
   "cell_type": "raw",
   "metadata": {},
   "source": [
    ">>> d = {'x': 'A', 'y': 'B', 'z': 'C' }\n",
    ">>> [k + '=' + v for k, v in d.items()]\n",
    "['y=B', 'x=A', 'z=C']"
   ]
  },
  {
   "cell_type": "markdown",
   "metadata": {},
   "source": [
    "最后把一个list中所有的字符串变成小写："
   ]
  },
  {
   "cell_type": "raw",
   "metadata": {},
   "source": [
    ">>> L = ['Hello', 'World', 'IBM', 'Apple']\n",
    ">>> [s.lower() for s in L]\n",
    "['hello', 'world', 'ibm', 'apple']"
   ]
  },
  {
   "cell_type": "markdown",
   "metadata": {},
   "source": [
    "## 练习"
   ]
  },
  {
   "cell_type": "markdown",
   "metadata": {},
   "source": [
    "如果list中既包含字符串，又包含整数，由于非字符串类型没有lower()方法，所以列表生成式会报错："
   ]
  },
  {
   "cell_type": "raw",
   "metadata": {},
   "source": [
    ">>> L = ['Hello', 'World', 18, 'Apple', None]\n",
    ">>> [s.lower() for s in L]\n",
    "Traceback (most recent call last):\n",
    "  File \"<stdin>\", line 1, in <module>\n",
    "  File \"<stdin>\", line 1, in <listcomp>\n",
    "AttributeError: 'int' object has no attribute 'lower'"
   ]
  },
  {
   "cell_type": "markdown",
   "metadata": {},
   "source": [
    "使用内建的isinstance函数可以判断一个变量是不是字符串："
   ]
  },
  {
   "cell_type": "raw",
   "metadata": {},
   "source": [
    ">>> x = 'abc'\n",
    ">>> y = 123\n",
    ">>> isinstance(x, str)\n",
    "True\n",
    ">>> isinstance(y, str)\n",
    "False"
   ]
  },
  {
   "cell_type": "markdown",
   "metadata": {},
   "source": [
    "请修改列表生成式，通过添加if语句保证列表生成式能正确地执行："
   ]
  },
  {
   "cell_type": "raw",
   "metadata": {},
   "source": [
    "# -*- coding: utf-8 -*-\n",
    "\n",
    "L1 = ['Hello', 'World', 18, 'Apple', None]"
   ]
  },
  {
   "cell_type": "raw",
   "metadata": {},
   "source": [
    "# 期待输出: ['hello', 'world', 'apple']\n",
    "print(L2)"
   ]
  },
  {
   "cell_type": "markdown",
   "metadata": {},
   "source": [
    "## 小结\n",
    "\n",
    "运用列表生成式，可以快速生成list，可以通过一个list推导出另一个list，而代码却十分简洁。"
   ]
  }
 ],
 "metadata": {
  "kernelspec": {
   "display_name": "Python 3",
   "language": "python",
   "name": "python3"
  },
  "language_info": {
   "codemirror_mode": {
    "name": "ipython",
    "version": 3
   },
   "file_extension": ".py",
   "mimetype": "text/x-python",
   "name": "python",
   "nbconvert_exporter": "python",
   "pygments_lexer": "ipython3",
   "version": "3.6.2"
  }
 },
 "nbformat": 4,
 "nbformat_minor": 2
}
