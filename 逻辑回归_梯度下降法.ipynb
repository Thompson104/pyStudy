{
 "cells": [
  {
   "cell_type": "markdown",
   "metadata": {},
   "source": [
    "[TOC]"
   ]
  },
  {
   "cell_type": "markdown",
   "metadata": {},
   "source": [
    "# # 目录\n",
    "* [绘制成绩分布图](#绘制成绩分布图)\n",
    "* [逻辑回归的实现思路](#逻辑回归的实现思路)\n",
    "    ++ [model函数](#model函数)"
   ]
  },
  {
   "cell_type": "code",
   "execution_count": 83,
   "metadata": {},
   "outputs": [],
   "source": [
    "import numpy as np\n",
    "import pandas as pd\n",
    "import matplotlib.pylab as plt\n",
    "%matplotlib inline\n",
    "import matplotlib.font_manager as fm\n",
    "myfont = fm.FontProperties(fname=u'C:\\Windows\\Fonts\\simsun.ttc',size=16)"
   ]
  },
  {
   "cell_type": "code",
   "execution_count": 84,
   "metadata": {},
   "outputs": [
    {
     "data": {
      "text/html": [
       "<div>\n",
       "<style scoped>\n",
       "    .dataframe tbody tr th:only-of-type {\n",
       "        vertical-align: middle;\n",
       "    }\n",
       "\n",
       "    .dataframe tbody tr th {\n",
       "        vertical-align: top;\n",
       "    }\n",
       "\n",
       "    .dataframe thead th {\n",
       "        text-align: right;\n",
       "    }\n",
       "</style>\n",
       "<table border=\"1\" class=\"dataframe\">\n",
       "  <thead>\n",
       "    <tr style=\"text-align: right;\">\n",
       "      <th></th>\n",
       "      <th>成绩1</th>\n",
       "      <th>成绩2</th>\n",
       "      <th>是否录取</th>\n",
       "    </tr>\n",
       "  </thead>\n",
       "  <tbody>\n",
       "    <tr>\n",
       "      <th>0</th>\n",
       "      <td>34.623660</td>\n",
       "      <td>78.024693</td>\n",
       "      <td>0</td>\n",
       "    </tr>\n",
       "    <tr>\n",
       "      <th>1</th>\n",
       "      <td>30.286711</td>\n",
       "      <td>43.894998</td>\n",
       "      <td>0</td>\n",
       "    </tr>\n",
       "    <tr>\n",
       "      <th>2</th>\n",
       "      <td>35.847409</td>\n",
       "      <td>72.902198</td>\n",
       "      <td>0</td>\n",
       "    </tr>\n",
       "    <tr>\n",
       "      <th>3</th>\n",
       "      <td>60.182599</td>\n",
       "      <td>86.308552</td>\n",
       "      <td>1</td>\n",
       "    </tr>\n",
       "    <tr>\n",
       "      <th>4</th>\n",
       "      <td>79.032736</td>\n",
       "      <td>75.344376</td>\n",
       "      <td>1</td>\n",
       "    </tr>\n",
       "  </tbody>\n",
       "</table>\n",
       "</div>"
      ],
      "text/plain": [
       "         成绩1        成绩2  是否录取\n",
       "0  34.623660  78.024693     0\n",
       "1  30.286711  43.894998     0\n",
       "2  35.847409  72.902198     0\n",
       "3  60.182599  86.308552     1\n",
       "4  79.032736  75.344376     1"
      ]
     },
     "execution_count": 84,
     "metadata": {},
     "output_type": "execute_result"
    }
   ],
   "source": [
    "import os\n",
    "path = 'input' + os.sep + 'logiReg_data.txt'\n",
    "raw_data = pd.read_csv(path,header=None,names=['成绩1','成绩2','是否录取'])\n",
    "raw_data.head()"
   ]
  },
  {
   "cell_type": "code",
   "execution_count": 85,
   "metadata": {},
   "outputs": [
    {
     "data": {
      "text/plain": [
       "(100, 3)"
      ]
     },
     "execution_count": 85,
     "metadata": {},
     "output_type": "execute_result"
    }
   ],
   "source": [
    "raw_data.shape"
   ]
  },
  {
   "cell_type": "code",
   "execution_count": 86,
   "metadata": {},
   "outputs": [],
   "source": [
    "positive = raw_data[raw_data['是否录取']==1]\n",
    "negative = raw_data[raw_data['是否录取']==0]"
   ]
  },
  {
   "cell_type": "code",
   "execution_count": 87,
   "metadata": {},
   "outputs": [
    {
     "data": {
      "text/html": [
       "<div>\n",
       "<style scoped>\n",
       "    .dataframe tbody tr th:only-of-type {\n",
       "        vertical-align: middle;\n",
       "    }\n",
       "\n",
       "    .dataframe tbody tr th {\n",
       "        vertical-align: top;\n",
       "    }\n",
       "\n",
       "    .dataframe thead th {\n",
       "        text-align: right;\n",
       "    }\n",
       "</style>\n",
       "<table border=\"1\" class=\"dataframe\">\n",
       "  <thead>\n",
       "    <tr style=\"text-align: right;\">\n",
       "      <th></th>\n",
       "      <th>成绩1</th>\n",
       "      <th>成绩2</th>\n",
       "      <th>是否录取</th>\n",
       "    </tr>\n",
       "  </thead>\n",
       "  <tbody>\n",
       "    <tr>\n",
       "      <th>0</th>\n",
       "      <td>34.623660</td>\n",
       "      <td>78.024693</td>\n",
       "      <td>0</td>\n",
       "    </tr>\n",
       "    <tr>\n",
       "      <th>1</th>\n",
       "      <td>30.286711</td>\n",
       "      <td>43.894998</td>\n",
       "      <td>0</td>\n",
       "    </tr>\n",
       "    <tr>\n",
       "      <th>2</th>\n",
       "      <td>35.847409</td>\n",
       "      <td>72.902198</td>\n",
       "      <td>0</td>\n",
       "    </tr>\n",
       "    <tr>\n",
       "      <th>5</th>\n",
       "      <td>45.083277</td>\n",
       "      <td>56.316372</td>\n",
       "      <td>0</td>\n",
       "    </tr>\n",
       "    <tr>\n",
       "      <th>10</th>\n",
       "      <td>95.861555</td>\n",
       "      <td>38.225278</td>\n",
       "      <td>0</td>\n",
       "    </tr>\n",
       "  </tbody>\n",
       "</table>\n",
       "</div>"
      ],
      "text/plain": [
       "          成绩1        成绩2  是否录取\n",
       "0   34.623660  78.024693     0\n",
       "1   30.286711  43.894998     0\n",
       "2   35.847409  72.902198     0\n",
       "5   45.083277  56.316372     0\n",
       "10  95.861555  38.225278     0"
      ]
     },
     "execution_count": 87,
     "metadata": {},
     "output_type": "execute_result"
    }
   ],
   "source": [
    "negative.head()"
   ]
  },
  {
   "cell_type": "markdown",
   "metadata": {},
   "source": [
    "# 绘制成绩分布图<span id ='绘制成绩分布图'>"
   ]
  },
  {
   "cell_type": "code",
   "execution_count": 88,
   "metadata": {},
   "outputs": [
    {
     "data": {
      "text/plain": [
       "Text(0,0.5,'数学成绩')"
      ]
     },
     "execution_count": 88,
     "metadata": {},
     "output_type": "execute_result"
    },
    {
     "data": {
      "image/png": "[encoded data removed]",
      "text/plain": [
       "<Figure size 720x504 with 1 Axes>"
      ]
     },
     "metadata": {},
     "output_type": "display_data"
    }
   ],
   "source": [
    "fig, ax = plt.subplots(figsize=(10,7))\n",
    "ax.scatter(positive['成绩1'],positive['成绩2'],s=30,c='b',marker='o',label='录取')\n",
    "ax.scatter(negative['成绩1'],negative['成绩2'],s = 60,c='r',marker='*',label='未录取')\n",
    "\n",
    "\n",
    "ax.legend(prop=myfont) # 中文显示\n",
    "ax.set_xlabel('语文成绩',fontproperties=\"SimHei\")\n",
    "ax.set_ylabel('数学成绩',fontproperties='simhei')"
   ]
  },
  {
   "cell_type": "markdown",
   "metadata": {},
   "source": [
    "# 逻辑回归的实现思路<span id ='逻辑回归的实现思路'>\n",
    "## 要完成的模块\n",
    "\n",
    "* sigmoid模块\n",
    "* model模块：返回预测结果，即模式\n",
    "* cost模块：计算损失，实现损失函数\n",
    "* gradient模块：计算每个参数的梯度方向\n",
    "+ descent模块：进行参数更新\n",
    "- accuracy模块：计算精度\n",
    "\n"
   ]
  },
  {
   "cell_type": "code",
   "execution_count": 89,
   "metadata": {},
   "outputs": [],
   "source": [
    "def sigmoid(x):\n",
    "    y = 1 / (1 + np.exp(-x))\n",
    "    return y\n"
   ]
  },
  {
   "cell_type": "code",
   "execution_count": 90,
   "metadata": {},
   "outputs": [
    {
     "data": {
      "text/plain": [
       "[<matplotlib.lines.Line2D at 0x279e0e86978>]"
      ]
     },
     "execution_count": 90,
     "metadata": {},
     "output_type": "execute_result"
    },
    {
     "data": {
      "image/png": "[encoded data removed]",
      "text/plain": [
       "<Figure size 864x288 with 1 Axes>"
      ]
     },
     "metadata": {},
     "output_type": "display_data"
    }
   ],
   "source": [
    "# 绘制sigmoid函数\n",
    "nums = np.arange(-10,10,1)\n",
    "fig,ax = plt.subplots(figsize=(12,4))\n",
    "ax.plot(nums,sigmoid(nums))"
   ]
  },
  {
   "cell_type": "markdown",
   "metadata": {},
   "source": [
    "# model模块"
   ]
  },
  {
   "cell_type": "code",
   "execution_count": 91,
   "metadata": {},
   "outputs": [],
   "source": [
    "def model(X,theta):\n",
    "    y = sigmoid( np.dot(X,theta.T) )\n",
    "    return y"
   ]
  },
  {
   "cell_type": "code",
   "execution_count": 92,
   "metadata": {},
   "outputs": [],
   "source": [
    "# 为 $theta_0$添加一列\n",
    "if raw_data.columns.tolist().count('ones') == 0:\n",
    "    raw_data.insert(0,'ones',1)"
   ]
  },
  {
   "cell_type": "code",
   "execution_count": 93,
   "metadata": {},
   "outputs": [
    {
     "name": "stderr",
     "output_type": "stream",
     "text": [
      "C:\\ProgramData\\Anaconda3\\lib\\site-packages\\ipykernel_launcher.py:1: FutureWarning: Method .as_matrix will be removed in a future version. Use .values instead.\n",
      "  \"\"\"Entry point for launching an IPython kernel.\n"
     ]
    }
   ],
   "source": [
    "orig_data = raw_data.as_matrix()\n",
    "cols = orig_data.shape[1]\n",
    "X = orig_data[:,0:cols-1]\n",
    "y = orig_data[:,cols-1:cols]"
   ]
  },
  {
   "cell_type": "code",
   "execution_count": 94,
   "metadata": {},
   "outputs": [],
   "source": [
    "theta = np.zeros([1,3])"
   ]
  },
  {
   "cell_type": "code",
   "execution_count": 95,
   "metadata": {},
   "outputs": [
    {
     "data": {
      "text/plain": [
       "((1, 3), (100, 3), (100, 1))"
      ]
     },
     "execution_count": 95,
     "metadata": {},
     "output_type": "execute_result"
    }
   ],
   "source": [
    "theta.shape,X.shape,y.shape"
   ]
  },
  {
   "cell_type": "markdown",
   "metadata": {},
   "source": [
    "# 损失函数\n",
    "将对数似然函数去负号\n",
    "$$D(h_\\theta(x),y) = -ylog(h_\\theta(x) - (1 - y)log(1-h_\\theta(x)))$$\n",
    "求平均损失\n",
    "$$J(\\theta) = \\frac{1}{n}\\sum_{i=1}^{n}D(h_\\theta(x_i),y_i)$$"
   ]
  },
  {
   "cell_type": "code",
   "execution_count": 96,
   "metadata": {},
   "outputs": [],
   "source": [
    "def cost(X,y,theta):\n",
    "    left = np.multiply(-y,np.log(model(X,theta)))\n",
    "    right = np.multiply(1-y,np.log(1-model(X,theta)))\n",
    "    #print(left)\n",
    "    result = np.sum(left -right) / (len(X))\n",
    "    return result"
   ]
  },
  {
   "cell_type": "code",
   "execution_count": 97,
   "metadata": {},
   "outputs": [
    {
     "data": {
      "text/plain": [
       "0.6931471805599453"
      ]
     },
     "execution_count": 97,
     "metadata": {},
     "output_type": "execute_result"
    }
   ],
   "source": [
    "cost(X,y,theta)"
   ]
  },
  {
   "cell_type": "markdown",
   "metadata": {},
   "source": [
    "# 计算梯度\n",
    "梯度计算公式：$$\\frac{\\partial J}{\\partial \\theta_j} = - \\frac{1}{m}\\sum_{i=1}^m(y_i - h_\\theta(x_i))x_{i}^j$$\n",
    "m：样本数量"
   ]
  },
  {
   "cell_type": "code",
   "execution_count": 98,
   "metadata": {},
   "outputs": [],
   "source": [
    "def gradient(X,y,theta):\n",
    "    m = len(X)\n",
    "    grad = np.zeros(theta.shape)\n",
    "    temp = ( model(X,theta) - y )\n",
    "#     print(temp)\n",
    "#     print(temp.shape)\n",
    "    error = ( model(X,theta) - y )\n",
    "#     print('error')\n",
    "#     print(error.shape)\n",
    "    # 分别计算theta0,theta1,theta2的梯度\n",
    "    for j in range(len(theta.ravel())):\n",
    "        term = np.multiply(error,X[:,j])\n",
    "        grad[0,j] = np.sum(term) / m\n",
    "    return grad"
   ]
  },
  {
   "cell_type": "markdown",
   "metadata": {},
   "source": [
    "## Gradient descent，比较3种不同梯度下降方法"
   ]
  },
  {
   "cell_type": "code",
   "execution_count": 99,
   "metadata": {},
   "outputs": [],
   "source": [
    "stop_iter = 0   # 迭代次数\n",
    "stop_cost = 1   # 迭代损失\n",
    "stop_grad = 2   # 梯度\n",
    "\n",
    "def stopCriterion(type,value,threshold):\n",
    "    #\n",
    "    if type == stop_iter:  return value > threshold\n",
    "    elif type == stop_cost: return abs(value[-1] - values[-2]) < threshold\n",
    "    elif type == stop_grad: return np.linalg.norm(value) < threshold"
   ]
  },
  {
   "cell_type": "code",
   "execution_count": 100,
   "metadata": {},
   "outputs": [
    {
     "data": {
      "text/plain": [
       "18.45237112134915"
      ]
     },
     "execution_count": 100,
     "metadata": {},
     "output_type": "execute_result"
    }
   ],
   "source": [
    "np.linalg.norm([14,0.7,-12])"
   ]
  },
  {
   "cell_type": "code",
   "execution_count": 101,
   "metadata": {},
   "outputs": [],
   "source": [
    "import numpy.random\n",
    "# 洗牌，打乱数据的顺序\n",
    "def shuffleData(data):\n",
    "    np.random.shuffle(data)\n",
    "    cols = data.shape[1]\n",
    "    X = data[:,0:cols-1]\n",
    "    y = data[:,cols-1]\n",
    "    return X,y"
   ]
  },
  {
   "cell_type": "code",
   "execution_count": 102,
   "metadata": {},
   "outputs": [],
   "source": [
    "import time\n",
    "def descent(data,theta,batchSize,stopType,thresh,alpha):\n",
    "    '''\n",
    "    data：数据\n",
    "    theta:\n",
    "    batchSize：\n",
    "    stopType：\n",
    "    thresh：阈值，迭代次数的上限，或损失函数误差的上限，或梯度值的下限\n",
    "    alpha\n",
    "    '''\n",
    "    # 梯度下降求解\n",
    "    init_time = time.time()\n",
    "    i = 0\n",
    "    k = 0\n",
    "    X,y = shuffleData(data)\n",
    "    grad = np.zeros(theta.shape)\n",
    "    costs = [cost(X,y,theta)]\n",
    "#     print(X.shape)\n",
    "#     print(y.shape)\n",
    "    \n",
    "    while True:\n",
    "        grad = gradient(X[k:k+batchSize],y[k:k+batchSize],theta)\n",
    "        k += batchSize # 去batch数量个数据\n",
    "        if k >= n:\n",
    "            k = 0\n",
    "            X,y = shuffleData(data) # 重新洗牌\n",
    "        theta = theta - alpha * grad\n",
    "        costs.append(cost(X,y,theta))\n",
    "        i += 1\n",
    "        \n",
    "        if stopType == stop_iter:      value = i\n",
    "        elif stopType == stop_cost:    value = costs\n",
    "        elif stopType == stop_grad:    value = grad\n",
    "        \n",
    "        if stopCriterion(stopType,value,thresh): break  \n",
    "                \n",
    "        \n",
    "    return theta,i-1,costs,grad,time.time() - init_time"
   ]
  },
  {
   "cell_type": "code",
   "execution_count": 105,
   "metadata": {},
   "outputs": [],
   "source": [
    "def runExpe(data,theta,batchSize,stopType,thresh,alpha):\n",
    "    #import pdb; pdb.set_trace();\n",
    "    theta, iter, costs, grad, dur = descent(data, theta, batchSize, stopType, thresh, alpha)\n",
    "    name = \"Original\" if (data[:,1]>2).sum() > 1 else \"Scaled\"\n",
    "    name += \" data - learning rate: {} - \".format(alpha)\n",
    "    if batchSize==n: strDescType = \"Gradient\"\n",
    "    elif batchSize==1:  strDescType = \"Stochastic\"\n",
    "    else: strDescType = \"Mini-batch ({})\".format(batchSize)\n",
    "    name += strDescType + \" descent - Stop: \"\n",
    "    if stopType == stop_iter: strStop = \"{} iterations\".format(thresh)\n",
    "    elif stopType == stop_cost: strStop = \"costs change < {}\".format(thresh)\n",
    "    else: strStop = \"gradient norm < {}\".format(thresh)\n",
    "    name += strStop\n",
    "    print (\"***{}\\nTheta: {} - Iter: {} - Last cost: {:03.2f} - Duration: {:03.2f}s\".format(\n",
    "        name, theta, iter, costs[-1], dur))\n",
    "    fig, ax = plt.subplots(figsize=(12,4))\n",
    "    ax.plot(np.arange(len(costs)), costs, 'r')\n",
    "    ax.set_xlabel('Iterations')\n",
    "    ax.set_ylabel('Cost')\n",
    "    ax.set_title(name.upper() + ' - Error vs. Iteration')\n",
    "    return theta"
   ]
  },
  {
   "cell_type": "code",
   "execution_count": 106,
   "metadata": {},
   "outputs": [
    {
     "name": "stderr",
     "output_type": "stream",
     "text": [
      "C:\\ProgramData\\Anaconda3\\lib\\site-packages\\ipykernel_launcher.py:3: RuntimeWarning: divide by zero encountered in log\n",
      "  This is separate from the ipykernel package so we can avoid doing imports until\n",
      "C:\\ProgramData\\Anaconda3\\lib\\site-packages\\ipykernel_launcher.py:3: RuntimeWarning: invalid value encountered in multiply\n",
      "  This is separate from the ipykernel package so we can avoid doing imports until\n"
     ]
    },
    {
     "name": "stdout",
     "output_type": "stream",
     "text": [
      "***Original data - learning rate: 1e-05 - Gradient descent - Stop: 5000 iterations\n",
      "Theta: [[-0.37909218  2.3441598  -1.89638894]] - Iter: 5000 - Last cost: nan - Duration: 1.52s\n"
     ]
    },
    {
     "data": {
      "text/plain": [
       "array([[-0.37909218,  2.3441598 , -1.89638894]])"
      ]
     },
     "execution_count": 106,
     "metadata": {},
     "output_type": "execute_result"
    },
    {
     "data": {
      "image/png": "[encoded data removed]",
      "text/plain": [
       "<Figure size 864x288 with 1 Axes>"
      ]
     },
     "metadata": {},
     "output_type": "display_data"
    }
   ],
   "source": [
    "n=100\n",
    "runExpe(orig_data,theta,100,stop_iter,thresh=5000,alpha=0.00001)"
   ]
  },
  {
   "cell_type": "code",
   "execution_count": null,
   "metadata": {},
   "outputs": [],
   "source": []
  }
 ],
 "metadata": {
  "kernelspec": {
   "display_name": "Python 3",
   "language": "python",
   "name": "python3"
  },
  "language_info": {
   "codemirror_mode": {
    "name": "ipython",
    "version": 3
   },
   "file_extension": ".py",
   "mimetype": "text/x-python",
   "name": "python",
   "nbconvert_exporter": "python",
   "pygments_lexer": "ipython3",
   "version": "3.6.6"
  },
  "toc": {
   "base_numbering": 1,
   "nav_menu": {},
   "number_sections": true,
   "sideBar": true,
   "skip_h1_title": false,
   "title_cell": "Table of Contents",
   "title_sidebar": "Contents",
   "toc_cell": false,
   "toc_position": {
    "height": "calc(100% - 180px)",
    "left": "10px",
    "top": "150px",
    "width": "307.2px"
   },
   "toc_section_display": true,
   "toc_window_display": true
  }
 },
 "nbformat": 4,
 "nbformat_minor": 2
}
