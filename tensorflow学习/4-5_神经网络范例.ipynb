{
 "cells": [
  {
   "cell_type": "code",
   "execution_count": 9,
   "metadata": {},
   "outputs": [],
   "source": [
    "import tensorflow as tf\n",
    "from tensorflow.examples.tutorials.mnist import input_data\n",
    "import numpy as np\n",
    "import matplotlib.pyplot as plt"
   ]
  },
  {
   "cell_type": "code",
   "execution_count": 10,
   "metadata": {},
   "outputs": [
    {
     "name": "stdout",
     "output_type": "stream",
     "text": [
      "Extracting mnist_data\\train-images-idx3-ubyte.gz\n",
      "Extracting mnist_data\\train-labels-idx1-ubyte.gz\n",
      "Extracting mnist_data\\t10k-images-idx3-ubyte.gz\n",
      "Extracting mnist_data\\t10k-labels-idx1-ubyte.gz\n"
     ]
    }
   ],
   "source": [
    "# 载入数据\n",
    "mnist = input_data.read_data_sets('mnist_data',one_hot=True)\n",
    "training = mnist.train.images\n",
    "trainlabel = mnist.train.labels\n",
    "testing = mnist.test.images\n",
    "testlabel = mnist.test.labels"
   ]
  },
  {
   "cell_type": "code",
   "execution_count": 11,
   "metadata": {},
   "outputs": [],
   "source": [
    "# 定义网络结构 784 * 256 * 128 * 10\n",
    "n_input = 784\n",
    "n_hidden_1 = 256\n",
    "n_hidden_2 = 128\n",
    "n_classes = 10\n",
    "\n",
    "# 输入变量\n",
    "x = tf.placeholder(tf.float32,[None,n_input])\n",
    "y = tf.placeholder(tf.float32,[None,n_classes])\n",
    "\n",
    "#\n",
    "stddev = 0.1\n",
    "weights = {\n",
    "    'w1' : tf.Variable(tf.random_normal([n_input,n_hidden_1],stddev=stddev)),\n",
    "    'w2' : tf.Variable(tf.random_normal([n_hidden_1,n_hidden_2],stddev=stddev)),\n",
    "    'out' : tf.Variable(tf.random_normal([n_hidden_2,n_classes],stddev=stddev))\n",
    "}\n",
    "biases = {\n",
    "    'b1' : tf.Variable(tf.random_normal([n_hidden_1])),\n",
    "    'b2' : tf.Variable(tf.random_normal([n_hidden_2])),\n",
    "    'out' : tf.Variable(tf.random_normal([n_classes]))\n",
    "}"
   ]
  },
  {
   "cell_type": "code",
   "execution_count": 12,
   "metadata": {},
   "outputs": [],
   "source": [
    "# 定义网络结构\n",
    "def multilayer_perceptron(_X,_weights,_biases):\n",
    "    layer_1 = tf.nn.sigmoid(tf.add(tf.matmul(_X,_weights['w1']),_biases['b1']))\n",
    "    layer_2 = tf.nn.sigmoid(tf.add(tf.matmul(layer_1,_weights['w2']),_biases['b2']))\n",
    "    layer_out = tf.matmul(layer_2,_weights['out'])\n",
    "    return layer_out"
   ]
  },
  {
   "cell_type": "code",
   "execution_count": 13,
   "metadata": {},
   "outputs": [],
   "source": [
    "# 预测结果\n",
    "pred = multilayer_perceptron(x,weights,biases)\n",
    "\n",
    "# 损失函数，优化器\n",
    "with tf.device('/gpu:0'):\n",
    "    # 损失函数：交叉熵函数\n",
    "    cost = tf.reduce_mean(tf.nn.softmax_cross_entropy_with_logits(logits=pred,labels=y))\n",
    "    optm = tf.train.AdamOptimizer().minimize(cost)\n",
    "    corr = tf.equal(tf.argmax(pred,1),tf.argmax(y,1))\n",
    "    accr = tf.reduce_mean(tf.cast(corr,tf.float32)) \n"
   ]
  },
  {
   "cell_type": "code",
   "execution_count": 17,
   "metadata": {},
   "outputs": [
    {
     "name": "stdout",
     "output_type": "stream",
     "text": [
      "Epoch: 003 / 020 cost: 0.118128967\n",
      "\\t训练集准确度：%.3f 0.98\n",
      "\\t测试集准确度：%.3f 0.9622\n",
      "Epoch: 007 / 020 cost: 0.046130258\n",
      "\\t训练集准确度：%.3f 1.0\n",
      "\\t测试集准确度：%.3f 0.9746\n",
      "Epoch: 011 / 020 cost: 0.018121993\n",
      "\\t训练集准确度：%.3f 1.0\n",
      "\\t测试集准确度：%.3f 0.9797\n",
      "Epoch: 015 / 020 cost: 0.006954740\n",
      "\\t训练集准确度：%.3f 1.0\n",
      "\\t测试集准确度：%.3f 0.9802\n",
      "Epoch: 019 / 020 cost: 0.002611529\n",
      "\\t训练集准确度：%.3f 1.0\n",
      "\\t测试集准确度：%.3f 0.9758\n",
      "Close\n"
     ]
    }
   ],
   "source": [
    "# 循环参数\n",
    "training_epochs = 20\n",
    "batch_size = 100\n",
    "display_step = 4\n",
    "\n",
    "config = tf.ConfigProto()  \n",
    "config.gpu_options.per_process_gpu_memory_fraction = 0.5  # 程序最多只能占用指定gpu50%的显存  \n",
    "config.gpu_options.allow_growth = True      #程序按需申请内存  \n",
    "sess = tf.Session(config = config) \n",
    "# 迭代\n",
    "with tf.Session(config=config ) as sess:\n",
    "    sess.run(tf.global_variables_initializer())\n",
    "    for epoch in range(training_epochs):\n",
    "        avg_cost = 0.0\n",
    "        total_batch = (mnist.train.num_examples // batch_size)\n",
    "        # 批次循环\n",
    "        for i in range(total_batch):\n",
    "            batch_x,batch_y = mnist.train.next_batch(batch_size=batch_size)\n",
    "            feeds = {x:batch_x,y:batch_y}\n",
    "            # 进行一次梯度下降训练\n",
    "            sess.run(optm,feed_dict=feeds)\n",
    "            # 计算本次的代价，并累计\n",
    "            avg_cost += sess.run(cost,feed_dict=feeds)\n",
    "        avg_cost = avg_cost / total_batch\n",
    "        # 显示中间结果\n",
    "        if (epoch + 1) % display_step == 0:\n",
    "            print('Epoch: %03d / %03d cost: %0.9f' \n",
    "                  % ( epoch,training_epochs,avg_cost ))\n",
    "            # 计算训练集准确度，和测试集准确度\n",
    "            feeds = {x:batch_x,y:batch_y} \n",
    "            train_acc = sess.run(accr,feed_dict=feeds)\n",
    "            print('\\\\t训练集准确度：%.3f' ,train_acc)\n",
    "            feeds = {x:mnist.test.images,y:mnist.test.labels} \n",
    "            test_acc = sess.run(accr,feed_dict=feeds)\n",
    "            print('\\\\t测试集准确度：%.3f' ,test_acc)\n",
    "    pass\n",
    "\n",
    "print('Close')\n"
   ]
  },
  {
   "cell_type": "code",
   "execution_count": null,
   "metadata": {},
   "outputs": [],
   "source": []
  }
 ],
 "metadata": {
  "kernelspec": {
   "display_name": "Python 3",
   "language": "python",
   "name": "python3"
  },
  "language_info": {
   "codemirror_mode": {
    "name": "ipython",
    "version": 3
   },
   "file_extension": ".py",
   "mimetype": "text/x-python",
   "name": "python",
   "nbconvert_exporter": "python",
   "pygments_lexer": "ipython3",
   "version": "3.6.5"
  }
 },
 "nbformat": 4,
 "nbformat_minor": 2
}
