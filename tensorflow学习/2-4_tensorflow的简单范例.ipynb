{
 "cells": [
  {
   "cell_type": "code",
   "execution_count": 5,
   "metadata": {},
   "outputs": [],
   "source": [
    "import tensorflow as tf\n",
    "import numpy as np\n",
    "import matplotlib.pyplot as plt"
   ]
  },
  {
   "cell_type": "code",
   "execution_count": 18,
   "metadata": {},
   "outputs": [
    {
     "name": "stdout",
     "output_type": "stream",
     "text": [
      "0 [0.053556096, 0.09999335, 0.015376227]\n",
      "20 [0.1032106, 0.1982735, 9.3636083e-07]\n",
      "40 [0.101812445, 0.1990254, 2.9839183e-07]\n",
      "60 [0.10102313, 0.19944984, 9.5087664e-08]\n",
      "80 [0.10057755, 0.19968943, 3.0299937e-08]\n",
      "100 [0.100326024, 0.19982468, 9.6553325e-09]\n",
      "120 [0.10018406, 0.19990103, 3.0774325e-09]\n",
      "140 [0.1001039, 0.19994414, 9.80557e-10]\n",
      "160 [0.100058645, 0.19996846, 3.1244682e-10]\n",
      "180 [0.10003311, 0.1999822, 9.95683e-11]\n"
     ]
    }
   ],
   "source": [
    "#使用numpy生存100个随机点\n",
    "x_data = np.random.rand(100)\n",
    "y_data = x_data * 0.1 + 0.2\n",
    "# 构建一个线性模型\n",
    "b = tf.Variable(0.0)\n",
    "k = tf.Variable(0.0)\n",
    "y = k*x_data + b\n",
    "\n",
    "#二次损失函数\n",
    "loss = tf.reduce_mean(tf.square(y_data - y))\n",
    "# 定义一个梯度下降算法优化器，来进行训练\n",
    "optimizer = tf.train.GradientDescentOptimizer(0.2)\n",
    "# 最小化损失函数\n",
    "train = optimizer.minimize(loss)\n",
    "\n",
    "# 初始化变量的op\n",
    "init = tf.global_variables_initializer()\n",
    "\n",
    "with tf.Session() as sess:\n",
    "    sess.run(init)\n",
    "    for step in np.arange(200):\n",
    "        sess.run(train)\n",
    "        if step %20 == 0:\n",
    "            print(step,sess.run([k,b,loss]))"
   ]
  },
  {
   "cell_type": "code",
   "execution_count": 16,
   "metadata": {},
   "outputs": [
    {
     "name": "stdout",
     "output_type": "stream",
     "text": [
      "[81.]\n"
     ]
    }
   ],
   "source": [
    "# 函数功能试用\n",
    "temp = tf.Variable([9.0])\n",
    "result = tf.square(temp)\n",
    "init = tf.global_variables_initializer()\n",
    "with tf.Session() as sess:\n",
    "    sess.run(init)\n",
    "    print(sess.run(result))\n",
    "    "
   ]
  },
  {
   "cell_type": "code",
   "execution_count": null,
   "metadata": {},
   "outputs": [],
   "source": []
  },
  {
   "cell_type": "code",
   "execution_count": null,
   "metadata": {},
   "outputs": [],
   "source": []
  }
 ],
 "metadata": {
  "kernelspec": {
   "display_name": "Python 3",
   "language": "python",
   "name": "python3"
  },
  "language_info": {
   "codemirror_mode": {
    "name": "ipython",
    "version": 3
   },
   "file_extension": ".py",
   "mimetype": "text/x-python",
   "name": "python",
   "nbconvert_exporter": "python",
   "pygments_lexer": "ipython3",
   "version": "3.6.5"
  }
 },
 "nbformat": 4,
 "nbformat_minor": 2
}
