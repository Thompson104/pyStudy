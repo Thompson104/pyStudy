{
 "cells": [
  {
   "cell_type": "code",
   "execution_count": 1,
   "metadata": {},
   "outputs": [],
   "source": [
    "import tensorflow as tf\n",
    "from tensorflow.examples.tutorials.mnist import input_data\n",
    "import numpy as np\n",
    "import matplotlib.pyplot as plt"
   ]
  },
  {
   "cell_type": "code",
   "execution_count": 2,
   "metadata": {},
   "outputs": [
    {
     "name": "stdout",
     "output_type": "stream",
     "text": [
      "Extracting mnist_data\\train-images-idx3-ubyte.gz\n",
      "Extracting mnist_data\\train-labels-idx1-ubyte.gz\n",
      "Extracting mnist_data\\t10k-images-idx3-ubyte.gz\n",
      "Extracting mnist_data\\t10k-labels-idx1-ubyte.gz\n"
     ]
    }
   ],
   "source": [
    "# 载入数据\n",
    "mnist = input_data.read_data_sets('mnist_data',one_hot=True)\n",
    "training = mnist.train.images\n",
    "trainlabel = mnist.train.labels\n",
    "testing = mnist.test.images\n",
    "testlabel = mnist.test.labels"
   ]
  },
  {
   "cell_type": "code",
   "execution_count": 3,
   "metadata": {},
   "outputs": [
    {
     "name": "stdout",
     "output_type": "stream",
     "text": [
      "(55000, 784)\n",
      "(10000, 784)\n",
      "(55000, 10)\n",
      "[ 0.  0.  0.  1.  0.  0.  0.  0.  0.  0.]\n",
      "(784,)\n"
     ]
    }
   ],
   "source": [
    "print(training.shape)\n",
    "print(testing.shape)\n",
    "print(trainlabel.shape)\n",
    "print(trainlabel[1,:])\n",
    "print(training[1,:].shape)\n",
    "# print(training[1,:])"
   ]
  },
  {
   "cell_type": "code",
   "execution_count": 7,
   "metadata": {},
   "outputs": [],
   "source": [
    "x = tf.placeholder(tf.float32,[None,784])\n",
    "y = tf.placeholder(tf.float32,[None,10])\n",
    "w = tf.Variable(tf.zeros([784,10]))\n",
    "b = tf.Variable(tf.zeros([10]))\n",
    "# 激活函数\n",
    "actv = tf.nn.softmax(tf.matmul(x,w) + b)\n",
    "# 代价函数\n",
    "cost = tf.reduce_mean( - tf.reduce_sum( y * tf.log(actv),reduction_indices=1)  )\n",
    "# 优化器\n",
    "learn_rate = 0.01\n",
    "optm = tf.train.GradientDescentOptimizer(learning_rate=learn_rate).minimize(cost)"
   ]
  },
  {
   "cell_type": "code",
   "execution_count": 9,
   "metadata": {},
   "outputs": [],
   "source": [
    "# 预测结果\n",
    "pred = tf.equal( tf.argmax(actv,1),tf.argmax(y,1))\n",
    "# 求精度\n",
    "accr = tf.reduce_mean(tf.cast(pred,tf.float32))"
   ]
  },
  {
   "cell_type": "code",
   "execution_count": 15,
   "metadata": {},
   "outputs": [
    {
     "data": {
      "text/plain": [
       "array([1, 0, 1], dtype=int64)"
      ]
     },
     "execution_count": 15,
     "metadata": {},
     "output_type": "execute_result"
    }
   ],
   "source": [
    "# rf常用函数测试\n",
    "sess = tf.InteractiveSession()\n",
    "arr = np.array([[31,32,8,7,0],\n",
    "                [54,32,3,4,34],\n",
    "                [31,77,3,4,0]\n",
    "               ])\n",
    "# tf.rank(arr).eval()\n",
    "# tf.shape(arr).eval()\n",
    "# tf.argmax(arr,0).eval() # 列方向最大值的索引号\n",
    "tf.argmax(arr,1).eval() # 行方向最大值的索引号"
   ]
  },
  {
   "cell_type": "code",
   "execution_count": 18,
   "metadata": {},
   "outputs": [
    {
     "name": "stdout",
     "output_type": "stream",
     "text": [
      "迭代次数：000/050 cost: 647.348475873 , train_acc: 0.830 , test_acc: 0.855\n",
      "迭代次数：005/050 cost: 242.539124757 , train_acc: 0.870 , test_acc: 0.895\n",
      "迭代次数：010/050 cost: 210.835253090 , train_acc: 0.900 , test_acc: 0.904\n",
      "迭代次数：015/050 cost: 196.511995569 , train_acc: 0.870 , test_acc: 0.909\n",
      "迭代次数：020/050 cost: 187.815272599 , train_acc: 0.960 , test_acc: 0.912\n",
      "迭代次数：025/050 cost: 181.813213229 , train_acc: 0.900 , test_acc: 0.914\n",
      "迭代次数：030/050 cost: 177.283441111 , train_acc: 0.890 , test_acc: 0.916\n",
      "迭代次数：035/050 cost: 173.781019226 , train_acc: 0.920 , test_acc: 0.917\n",
      "迭代次数：040/050 cost: 170.889498532 , train_acc: 0.890 , test_acc: 0.918\n",
      "迭代次数：045/050 cost: 168.495763540 , train_acc: 0.930 , test_acc: 0.918\n"
     ]
    }
   ],
   "source": [
    "training_epochs = 50   #迭代周期\n",
    "batch_size      = 100\n",
    "display_step     = 5\n",
    "\n",
    "with tf.Session() as sess:\n",
    "    sess.run(tf.global_variables_initializer())\n",
    "    for epoch in range(training_epochs):\n",
    "        avg_cost = 0.0\n",
    "        num_batch = int(mnist.train.num_examples / batch_size)\n",
    "        for i in range(num_batch):\n",
    "            batch_x ,batch_y = mnist.train.next_batch(batch_size)\n",
    "            sess.run(optm,feed_dict={x:batch_x,y:batch_y})\n",
    "            avg_cost += sess.run(cost,feed_dict={x:batch_x,y:batch_y})\n",
    "        if epoch % display_step == 0:\n",
    "            feeds_train = {x:batch_x,y:batch_y}\n",
    "            feeds_test ={x:mnist.test.images,y:mnist.test.labels}\n",
    "            train_acc = sess.run(accr,feed_dict=feeds_train)\n",
    "            test_acc = sess.run(accr,feed_dict=feeds_test)\n",
    "            print('迭代次数：%03d/%03d cost: %.9f , train_acc: %0.3f , test_acc: %0.3f'\n",
    "                  % (epoch,training_epochs,avg_cost,train_acc,test_acc)\n",
    "                 )\n",
    "            "
   ]
  },
  {
   "cell_type": "code",
   "execution_count": null,
   "metadata": {},
   "outputs": [],
   "source": []
  }
 ],
 "metadata": {
  "kernelspec": {
   "display_name": "Python 3",
   "language": "python",
   "name": "python3"
  },
  "language_info": {
   "codemirror_mode": {
    "name": "ipython",
    "version": 3
   },
   "file_extension": ".py",
   "mimetype": "text/x-python",
   "name": "python",
   "nbconvert_exporter": "python",
   "pygments_lexer": "ipython3",
   "version": "3.6.5"
  }
 },
 "nbformat": 4,
 "nbformat_minor": 2
}
